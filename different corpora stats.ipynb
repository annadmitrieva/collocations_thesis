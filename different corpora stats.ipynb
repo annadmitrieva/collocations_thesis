{
 "cells": [
  {
   "cell_type": "code",
   "execution_count": 1,
   "metadata": {},
   "outputs": [],
   "source": [
    "import pandas as pd"
   ]
  },
  {
   "cell_type": "code",
   "execution_count": 2,
   "metadata": {},
   "outputs": [],
   "source": [
    "import string\n",
    "invalidChars = set(string.punctuation)"
   ]
  },
  {
   "cell_type": "code",
   "execution_count": 33,
   "metadata": {},
   "outputs": [],
   "source": [
    "def clean_data(df):\n",
    "    freq_filtered = df.loc[df['frequency'] >= 3]\n",
    "    ngram_list = freq_filtered.ngram.tolist()\n",
    "    freq_list = freq_filtered['raw frequency'].tolist()\n",
    "    lr_list = freq_filtered['likelihood ratio'].tolist()\n",
    "    pmi_list = freq_filtered['pmi'].tolist()\n",
    "    raw_freq_list = freq_filtered['frequency'].tolist()\n",
    "    t_list = freq_filtered['t score'].tolist()\n",
    "    tag_list = freq_filtered['tag'].tolist()\n",
    "    raw_freq = []\n",
    "    lr = []\n",
    "    ngrams = []\n",
    "    pmi = []\n",
    "    freq = []\n",
    "    t = []\n",
    "    tag = []\n",
    "    for i in range(len(ngram_list)):\n",
    "        if not any(char in invalidChars for char in ngram_list[i]): \n",
    "            ngrams.append(ngram_list[i])\n",
    "            freq.append(freq_list[i])\n",
    "            lr.append(lr_list[i])\n",
    "            pmi.append(pmi_list[i])\n",
    "            t.append(t_list[i])\n",
    "            raw_freq.append(raw_freq_list[i])\n",
    "            tag.append(tag_list[i])\n",
    "    df_new=pd.DataFrame({'ngram':ngrams, \n",
    "                 'tag':tag, \n",
    "                 'frequency':freq, \n",
    "                 'raw frequency':raw_freq, \n",
    "                 'likelihood ratio':lr, \n",
    "                 'pmi':pmi, \n",
    "                 't score':t})\n",
    "    return df_new"
   ]
  },
  {
   "cell_type": "code",
   "execution_count": 4,
   "metadata": {},
   "outputs": [],
   "source": [
    "bi_df = pd.read_csv('bigrams_cut.csv', encoding='utf-8')"
   ]
  },
  {
   "cell_type": "code",
   "execution_count": 5,
   "metadata": {},
   "outputs": [],
   "source": [
    "tri_df = pd.read_csv('trigrams_cut.csv', encoding='utf-8')"
   ]
  },
  {
   "cell_type": "code",
   "execution_count": 6,
   "metadata": {},
   "outputs": [],
   "source": [
    "open_bi_df = pd.read_csv('open_bigrams.csv', encoding='utf-8')"
   ]
  },
  {
   "cell_type": "code",
   "execution_count": 7,
   "metadata": {},
   "outputs": [],
   "source": [
    "open_tri_df = pd.read_csv('open_trigrams.csv', encoding='utf-8')"
   ]
  },
  {
   "cell_type": "code",
   "execution_count": 8,
   "metadata": {},
   "outputs": [],
   "source": [
    "rus_bi_df = pd.read_csv('rus_bigrams.csv', encoding='utf-8')"
   ]
  },
  {
   "cell_type": "code",
   "execution_count": 9,
   "metadata": {},
   "outputs": [],
   "source": [
    "rus_tri_df = pd.read_csv('rus_trigrams.csv', encoding='utf-8')"
   ]
  },
  {
   "cell_type": "code",
   "execution_count": 10,
   "metadata": {},
   "outputs": [],
   "source": [
    "CORPORA = ['open', 'rus']"
   ]
  },
  {
   "cell_type": "code",
   "execution_count": 13,
   "metadata": {},
   "outputs": [],
   "source": [
    "def compare_datasets(my_data, other_data):\n",
    "    ngram_list = my_data.ngram.tolist()\n",
    "    freq_list = my_data['raw frequency'].tolist()\n",
    "    lr_list = my_data['likelihood ratio'].tolist()\n",
    "    pmi_list = my_data['pmi'].tolist()\n",
    "    raw_freq_list = my_data['frequency'].tolist()\n",
    "    t_list = my_data['t score'].tolist()\n",
    "    tag_list = my_data['tag'].tolist()\n",
    "    other_ngram_list = [str(x).lower() for x in other_data.ngram.tolist()]\n",
    "    other_freq_list = other_data.freq.tolist()\n",
    "    ngram = []\n",
    "    freq_our = []\n",
    "    raw_freq = []\n",
    "    freq_other = []\n",
    "    pmi = []\n",
    "    lr = []\n",
    "    t = []\n",
    "    tag = []\n",
    "    for i in range(len(ngram_list)):\n",
    "        if ngram_list[i] in other_ngram_list:\n",
    "            other_freq_ind = other_ngram_list.index(ngram_list[i])\n",
    "            ngram.append(ngram_list[i])\n",
    "            freq_our.append(freq_list[i])\n",
    "            lr.append(lr_list[i])\n",
    "            pmi.append(pmi_list[i])\n",
    "            t.append(t_list[i])\n",
    "            raw_freq.append(raw_freq_list[i])\n",
    "            tag.append(tag_list[i])\n",
    "            freq_other.append(other_freq_list[other_freq_ind])\n",
    "    df=pd.DataFrame({'ngram':ngram, \n",
    "                 'tag':tag, \n",
    "                 'frequency_ours':freq_our,\n",
    "                     'frequency_other':freq_other, \n",
    "                 'raw frequency':raw_freq, \n",
    "                 'likelihood ratio':lr, \n",
    "                 'pmi':pmi, \n",
    "                 't score':t})\n",
    "    return df"
   ]
  },
  {
   "cell_type": "code",
   "execution_count": 14,
   "metadata": {},
   "outputs": [],
   "source": [
    "def compare_other_datasets(open_data, rus_data):\n",
    "    ngram_list = open_data.ngram.tolist()\n",
    "    raw_freq_list = open_data['raw frequency'].tolist()\n",
    "    lr_list = open_data['likelihood ratio'].tolist()\n",
    "    pmi_list = open_data['pmi'].tolist()\n",
    "    our_freq_list = open_data['frequency_ours'].tolist()\n",
    "    open_freq_list = open_data['frequency_other'].tolist()\n",
    "    t_list = open_data['t score'].tolist()\n",
    "    tag_list = open_data['tag'].tolist()\n",
    "    rus_ngram_list = [str(x).lower() for x in rus_data.ngram.tolist()]\n",
    "    rus_freq_list = rus_data.frequency_other.tolist()\n",
    "    ngram = []\n",
    "    freq_our = []\n",
    "    raw_freq = []\n",
    "    freq_open = []\n",
    "    freq_rus = []\n",
    "    pmi = []\n",
    "    lr = []\n",
    "    t = []\n",
    "    tag = []\n",
    "    for i in range(len(ngram_list)):\n",
    "        if ngram_list[i] in rus_ngram_list:\n",
    "            rus_freq_ind = rus_ngram_list.index(ngram_list[i])\n",
    "            ngram.append(ngram_list[i])\n",
    "            freq_our.append(our_freq_list[i])\n",
    "            freq_open.append(open_freq_list[i])\n",
    "            lr.append(lr_list[i])\n",
    "            pmi.append(pmi_list[i])\n",
    "            t.append(t_list[i])\n",
    "            raw_freq.append(raw_freq_list[i])\n",
    "            tag.append(tag_list[i])\n",
    "            freq_rus.append(rus_freq_list[rus_freq_ind])\n",
    "    df=pd.DataFrame({'ngram':ngram, \n",
    "                 'tag':tag, \n",
    "                 'frequency_ours':freq_our,\n",
    "                     'frequency_open':freq_open, \n",
    "                     'frequency_rus':freq_rus,\n",
    "                 'raw frequency':raw_freq, \n",
    "                 'likelihood ratio':lr, \n",
    "                 'pmi':pmi, \n",
    "                 't score':t})\n",
    "    return df"
   ]
  },
  {
   "cell_type": "code",
   "execution_count": 146,
   "metadata": {},
   "outputs": [],
   "source": [
    "our_open_bi = compare_datasets(bi_df, open_bi_df)"
   ]
  },
  {
   "cell_type": "code",
   "execution_count": 147,
   "metadata": {},
   "outputs": [],
   "source": [
    "our_open_bi.to_csv('our_open_bi.csv', encoding='utf-8', index=False)"
   ]
  },
  {
   "cell_type": "code",
   "execution_count": 15,
   "metadata": {},
   "outputs": [],
   "source": [
    "our_open_bi = pd.read_csv('our_open_bi.csv', encoding='utf-8')"
   ]
  },
  {
   "cell_type": "code",
   "execution_count": 71,
   "metadata": {},
   "outputs": [
    {
     "name": "stdout",
     "output_type": "stream",
     "text": [
      "21343\n",
      "26.641451967245857\n"
     ]
    }
   ],
   "source": [
    "print(len(our_open_bi))\n",
    "print(percentage(len(our_open_bi), len(bi_df)))"
   ]
  },
  {
   "cell_type": "code",
   "execution_count": 148,
   "metadata": {},
   "outputs": [],
   "source": [
    "our_open_tri = compare_datasets(tri_df, open_tri_df)"
   ]
  },
  {
   "cell_type": "code",
   "execution_count": 150,
   "metadata": {},
   "outputs": [],
   "source": [
    "our_open_tri.to_csv('our_open_tri.csv', encoding='utf-8', index=False)"
   ]
  },
  {
   "cell_type": "code",
   "execution_count": 16,
   "metadata": {},
   "outputs": [],
   "source": [
    "our_open_tri = pd.read_csv('our_open_tri.csv', encoding='utf-8')"
   ]
  },
  {
   "cell_type": "code",
   "execution_count": 72,
   "metadata": {},
   "outputs": [
    {
     "name": "stdout",
     "output_type": "stream",
     "text": [
      "3479\n",
      "11.917648670868731\n"
     ]
    }
   ],
   "source": [
    "print(len(our_open_tri))\n",
    "print(percentage(len(our_open_tri), len(tri_df)))"
   ]
  },
  {
   "cell_type": "code",
   "execution_count": 151,
   "metadata": {},
   "outputs": [],
   "source": [
    "our_rus_bi = compare_datasets(bi_df, rus_bi_df)"
   ]
  },
  {
   "cell_type": "code",
   "execution_count": 152,
   "metadata": {},
   "outputs": [],
   "source": [
    "our_rus_bi.to_csv('our_rus_bi.csv', encoding='utf-8', index=False)"
   ]
  },
  {
   "cell_type": "code",
   "execution_count": 17,
   "metadata": {},
   "outputs": [],
   "source": [
    "our_rus_bi = pd.read_csv('our_rus_bi.csv', encoding='utf-8')"
   ]
  },
  {
   "cell_type": "code",
   "execution_count": 73,
   "metadata": {},
   "outputs": [
    {
     "name": "stdout",
     "output_type": "stream",
     "text": [
      "51460\n",
      "64.23507090073896\n"
     ]
    }
   ],
   "source": [
    "print(len(our_rus_bi))\n",
    "print(percentage(len(our_rus_bi), len(bi_df)))"
   ]
  },
  {
   "cell_type": "code",
   "execution_count": 153,
   "metadata": {},
   "outputs": [],
   "source": [
    "our_rus_tri = compare_datasets(tri_df, rus_tri_df)"
   ]
  },
  {
   "cell_type": "code",
   "execution_count": 154,
   "metadata": {},
   "outputs": [],
   "source": [
    "our_rus_tri.to_csv('our_rus_tri.csv', encoding='utf-8', index=False)"
   ]
  },
  {
   "cell_type": "code",
   "execution_count": 18,
   "metadata": {},
   "outputs": [],
   "source": [
    "our_rus_tri = pd.read_csv('our_rus_tri.csv', encoding='utf-8')"
   ]
  },
  {
   "cell_type": "code",
   "execution_count": 74,
   "metadata": {},
   "outputs": [
    {
     "name": "stdout",
     "output_type": "stream",
     "text": [
      "12438\n",
      "42.6075637160866\n"
     ]
    }
   ],
   "source": [
    "print(len(our_rus_tri))\n",
    "print(percentage(len(our_rus_tri), len(tri_df)))"
   ]
  },
  {
   "cell_type": "code",
   "execution_count": 155,
   "metadata": {},
   "outputs": [],
   "source": [
    "bi_combined = compare_other_datasets(our_open_bi, our_rus_bi)"
   ]
  },
  {
   "cell_type": "code",
   "execution_count": 156,
   "metadata": {},
   "outputs": [],
   "source": [
    "bi_combined.to_csv('bi_combined.csv', encoding='utf-8', index=False)"
   ]
  },
  {
   "cell_type": "code",
   "execution_count": 19,
   "metadata": {},
   "outputs": [],
   "source": [
    "bi_combined = pd.read_csv('bi_combined.csv', encoding='utf-8')"
   ]
  },
  {
   "cell_type": "code",
   "execution_count": 76,
   "metadata": {},
   "outputs": [
    {
     "name": "stdout",
     "output_type": "stream",
     "text": [
      "21112\n",
      "26.353105652087077\n"
     ]
    }
   ],
   "source": [
    "print(len(bi_combined))\n",
    "print(percentage(len(bi_combined), len(bi_df)))"
   ]
  },
  {
   "cell_type": "code",
   "execution_count": 157,
   "metadata": {},
   "outputs": [],
   "source": [
    "tri_combined = compare_other_datasets(our_open_tri, our_rus_tri)"
   ]
  },
  {
   "cell_type": "code",
   "execution_count": 158,
   "metadata": {},
   "outputs": [],
   "source": [
    "tri_combined.to_csv('tri_combined.csv', encoding='utf-8', index=False)"
   ]
  },
  {
   "cell_type": "code",
   "execution_count": 20,
   "metadata": {},
   "outputs": [],
   "source": [
    "tri_combined = pd.read_csv('tri_combined.csv', encoding='utf-8')"
   ]
  },
  {
   "cell_type": "code",
   "execution_count": 77,
   "metadata": {},
   "outputs": [
    {
     "name": "stdout",
     "output_type": "stream",
     "text": [
      "3424\n",
      "11.729240887914496\n"
     ]
    }
   ],
   "source": [
    "print(len(tri_combined))\n",
    "print(percentage(len(tri_combined), len(tri_df)))"
   ]
  },
  {
   "cell_type": "code",
   "execution_count": 21,
   "metadata": {},
   "outputs": [],
   "source": [
    "from matplotlib import pyplot as plt\n",
    "import matplotlib.mlab as mlab\n",
    "import numpy as np\n",
    "from scipy import stats"
   ]
  },
  {
   "cell_type": "code",
   "execution_count": 22,
   "metadata": {},
   "outputs": [],
   "source": [
    "def get_norm_curve(var):\n",
    "    array = np.array(var)\n",
    "    print(stats.normaltest(array))\n",
    "    n, bins, patches = plt.hist(array, 50, normed=1)\n",
    "    mu = np.mean(array)\n",
    "    sigma = np.std(array)\n",
    "    plt.plot(bins, mlab.normpdf(bins, mu, sigma))\n",
    "    plt.show()"
   ]
  },
  {
   "cell_type": "code",
   "execution_count": 24,
   "metadata": {},
   "outputs": [
    {
     "name": "stdout",
     "output_type": "stream",
     "text": [
      "NormaltestResult(statistic=5332.043769882311, pvalue=0.0)\n"
     ]
    },
    {
     "name": "stderr",
     "output_type": "stream",
     "text": [
      "C:\\Users\\vasel\\Anaconda3\\lib\\site-packages\\matplotlib\\axes\\_axes.py:6462: UserWarning: The 'normed' kwarg is deprecated, and has been replaced by the 'density' kwarg.\n",
      "  warnings.warn(\"The 'normed' kwarg is deprecated, and has been \"\n",
      "C:\\Users\\vasel\\Anaconda3\\lib\\site-packages\\ipykernel_launcher.py:7: MatplotlibDeprecationWarning: scipy.stats.norm.pdf\n",
      "  import sys\n"
     ]
    },
    {
     "data": {
      "image/png": "[encoded data removed]",
      "text/plain": [
       "<Figure size 432x288 with 1 Axes>"
      ]
     },
     "metadata": {},
     "output_type": "display_data"
    }
   ],
   "source": [
    "get_norm_curve(tri_combined.frequency_ours.tolist())"
   ]
  },
  {
   "cell_type": "code",
   "execution_count": 25,
   "metadata": {},
   "outputs": [
    {
     "name": "stdout",
     "output_type": "stream",
     "text": [
      "NormaltestResult(statistic=5048.907258721818, pvalue=0.0)\n"
     ]
    },
    {
     "name": "stderr",
     "output_type": "stream",
     "text": [
      "C:\\Users\\vasel\\Anaconda3\\lib\\site-packages\\matplotlib\\axes\\_axes.py:6462: UserWarning: The 'normed' kwarg is deprecated, and has been replaced by the 'density' kwarg.\n",
      "  warnings.warn(\"The 'normed' kwarg is deprecated, and has been \"\n",
      "C:\\Users\\vasel\\Anaconda3\\lib\\site-packages\\ipykernel_launcher.py:7: MatplotlibDeprecationWarning: scipy.stats.norm.pdf\n",
      "  import sys\n"
     ]
    },
    {
     "data": {
      "image/png": "[encoded data removed]",
      "text/plain": [
       "<Figure size 432x288 with 1 Axes>"
      ]
     },
     "metadata": {},
     "output_type": "display_data"
    }
   ],
   "source": [
    "get_norm_curve(tri_combined.frequency_open.tolist())"
   ]
  },
  {
   "cell_type": "code",
   "execution_count": 26,
   "metadata": {},
   "outputs": [
    {
     "name": "stdout",
     "output_type": "stream",
     "text": [
      "NormaltestResult(statistic=4147.353268533881, pvalue=0.0)\n"
     ]
    },
    {
     "name": "stderr",
     "output_type": "stream",
     "text": [
      "C:\\Users\\vasel\\Anaconda3\\lib\\site-packages\\matplotlib\\axes\\_axes.py:6462: UserWarning: The 'normed' kwarg is deprecated, and has been replaced by the 'density' kwarg.\n",
      "  warnings.warn(\"The 'normed' kwarg is deprecated, and has been \"\n",
      "C:\\Users\\vasel\\Anaconda3\\lib\\site-packages\\ipykernel_launcher.py:7: MatplotlibDeprecationWarning: scipy.stats.norm.pdf\n",
      "  import sys\n"
     ]
    },
    {
     "data": {
      "image/png": "[encoded data removed]",
      "text/plain": [
       "<Figure size 432x288 with 1 Axes>"
      ]
     },
     "metadata": {},
     "output_type": "display_data"
    }
   ],
   "source": [
    "get_norm_curve(tri_combined.frequency_rus.tolist())"
   ]
  },
  {
   "cell_type": "code",
   "execution_count": 27,
   "metadata": {},
   "outputs": [],
   "source": [
    "def get_tau(our_freq, other_freq):\n",
    "    tau, p_value = stats.kendalltau(our_freq, other_freq)\n",
    "    print('tau: {}'.format(tau))\n",
    "    print('p value: {}'.format(p_value))\n",
    "    return tau, p_value"
   ]
  },
  {
   "cell_type": "code",
   "execution_count": 166,
   "metadata": {},
   "outputs": [
    {
     "name": "stdout",
     "output_type": "stream",
     "text": [
      "tau: 0.32291303250513215\n",
      "p value: 0.0\n"
     ]
    }
   ],
   "source": [
    "open_bi_tau, open_bi_p = get_tau(our_open_bi.frequency_ours, our_open_bi.frequency_other)"
   ]
  },
  {
   "cell_type": "code",
   "execution_count": 167,
   "metadata": {},
   "outputs": [
    {
     "name": "stdout",
     "output_type": "stream",
     "text": [
      "tau: 0.2940500445645864\n",
      "p value: 3.7508370753005874e-124\n"
     ]
    }
   ],
   "source": [
    "open_tri_tau, open_tri_p = get_tau(our_open_tri.frequency_ours, our_open_tri.frequency_other)"
   ]
  },
  {
   "cell_type": "code",
   "execution_count": 117,
   "metadata": {},
   "outputs": [
    {
     "name": "stdout",
     "output_type": "stream",
     "text": [
      "tau: 0.2798390526482408\n",
      "p value: 0.0\n"
     ]
    }
   ],
   "source": [
    "rus_bi_tau, rus_bi_p = get_tau(our_rus_bi.frequency_ours, our_rus_bi.frequency_other)"
   ]
  },
  {
   "cell_type": "code",
   "execution_count": 118,
   "metadata": {},
   "outputs": [
    {
     "name": "stdout",
     "output_type": "stream",
     "text": [
      "tau: 0.23222874845057462\n",
      "p value: 1.7048608347281004e-279\n"
     ]
    }
   ],
   "source": [
    "rus_tri_tau, rus_tri_p = get_tau(our_rus_tri.frequency_ours, our_rus_tri.frequency_other)"
   ]
  },
  {
   "cell_type": "code",
   "execution_count": 168,
   "metadata": {},
   "outputs": [
    {
     "name": "stdout",
     "output_type": "stream",
     "text": [
      "tau: 0.32305303634265103\n",
      "p value: 0.0\n"
     ]
    }
   ],
   "source": [
    "combined_bi_tau, combined_bi_p = get_tau(bi_combined.frequency_ours, bi_combined.frequency_open) "
   ]
  },
  {
   "cell_type": "code",
   "execution_count": 169,
   "metadata": {},
   "outputs": [
    {
     "name": "stdout",
     "output_type": "stream",
     "text": [
      "tau: 0.2992571682346022\n",
      "p value: 9.361927591402609e-127\n"
     ]
    }
   ],
   "source": [
    "combined_tri_tau, combined_tri_p = get_tau(tri_combined.frequency_ours, tri_combined.frequency_open) "
   ]
  },
  {
   "cell_type": "code",
   "execution_count": 170,
   "metadata": {},
   "outputs": [
    {
     "name": "stdout",
     "output_type": "stream",
     "text": [
      "tau: 0.2468840342308918\n",
      "p value: 0.0\n"
     ]
    }
   ],
   "source": [
    "combined_bi_tau_r, combined_bi_p_r = get_tau(bi_combined.frequency_ours, bi_combined.frequency_rus) "
   ]
  },
  {
   "cell_type": "code",
   "execution_count": 171,
   "metadata": {},
   "outputs": [
    {
     "name": "stdout",
     "output_type": "stream",
     "text": [
      "tau: 0.20690928704538672\n",
      "p value: 7.879784796388031e-68\n"
     ]
    }
   ],
   "source": [
    "combined_tri_tau_r, combined_tri_p_r = get_tau(tri_combined.frequency_ours, tri_combined.frequency_rus) "
   ]
  },
  {
   "cell_type": "code",
   "execution_count": 172,
   "metadata": {},
   "outputs": [
    {
     "name": "stdout",
     "output_type": "stream",
     "text": [
      "tau: 0.5233142958140147\n",
      "p value: 0.0\n"
     ]
    }
   ],
   "source": [
    "combined_bi_tau_mix, combined_bi_p_mix = get_tau(bi_combined.frequency_open, bi_combined.frequency_rus) "
   ]
  },
  {
   "cell_type": "code",
   "execution_count": 173,
   "metadata": {},
   "outputs": [
    {
     "name": "stdout",
     "output_type": "stream",
     "text": [
      "tau: 0.4334747697179039\n",
      "p value: 7.077201493887625e-286\n"
     ]
    }
   ],
   "source": [
    "combined_tri_tau_mix, combined_tri_p_mix = get_tau(tri_combined.frequency_open, tri_combined.frequency_rus) "
   ]
  },
  {
   "cell_type": "code",
   "execution_count": 70,
   "metadata": {},
   "outputs": [
    {
     "data": {
      "text/plain": [
       "True"
      ]
     },
     "execution_count": 70,
     "metadata": {},
     "output_type": "execute_result"
    }
   ],
   "source": [
    "3.7508370753005874e-124 < 3.27207e-11"
   ]
  },
  {
   "cell_type": "code",
   "execution_count": 174,
   "metadata": {},
   "outputs": [],
   "source": [
    "from collections import Counter\n",
    "import operator"
   ]
  },
  {
   "cell_type": "code",
   "execution_count": 175,
   "metadata": {},
   "outputs": [],
   "source": [
    "def get_tag_counts(tag_col):\n",
    "    tags = tag_col.tolist()\n",
    "    counts = Counter(tags)\n",
    "    sort = sorted(counts.items(), key=operator.itemgetter(1), reverse=True)\n",
    "    seq = []\n",
    "    freq = []\n",
    "    for i in sort:\n",
    "        seq.append(i[0])\n",
    "        freq.append(i[1])\n",
    "    df=pd.DataFrame({'tag_sequence':seq, \n",
    "                     'freq':freq})\n",
    "    return df"
   ]
  },
  {
   "cell_type": "code",
   "execution_count": 176,
   "metadata": {},
   "outputs": [],
   "source": [
    "bi_tag = get_tag_counts(bi_combined.tag)"
   ]
  },
  {
   "cell_type": "code",
   "execution_count": 177,
   "metadata": {},
   "outputs": [],
   "source": [
    "tri_tag = get_tag_counts(tri_combined.tag)"
   ]
  },
  {
   "cell_type": "code",
   "execution_count": 178,
   "metadata": {},
   "outputs": [],
   "source": [
    "bi_tag.to_csv('bi_tag.csv', encoding='utf-8', index=False)"
   ]
  },
  {
   "cell_type": "code",
   "execution_count": 179,
   "metadata": {},
   "outputs": [],
   "source": [
    "tri_tag.to_csv('tri_tag.csv', encoding='utf-8', index=False)"
   ]
  },
  {
   "cell_type": "code",
   "execution_count": 65,
   "metadata": {},
   "outputs": [],
   "source": [
    "def percentage(part, whole):\n",
    "    return 100 * float(part)/float(whole)"
   ]
  },
  {
   "cell_type": "code",
   "execution_count": 28,
   "metadata": {},
   "outputs": [],
   "source": [
    "ling_bi = pd.read_excel('linguistics_collocation_counts.xlsx', encoding='utf-8', sheet_name='bigrams')"
   ]
  },
  {
   "cell_type": "code",
   "execution_count": 34,
   "metadata": {},
   "outputs": [],
   "source": [
    "ling_bi = clean_data(ling_bi)"
   ]
  },
  {
   "cell_type": "code",
   "execution_count": 36,
   "metadata": {},
   "outputs": [],
   "source": [
    "ling_tri = pd.read_excel('linguistics_collocation_counts.xlsx', encoding='utf-8', sheet_name='trigrams')"
   ]
  },
  {
   "cell_type": "code",
   "execution_count": 37,
   "metadata": {},
   "outputs": [],
   "source": [
    "ling_tri = clean_data(ling_tri)"
   ]
  },
  {
   "cell_type": "code",
   "execution_count": null,
   "metadata": {},
   "outputs": [],
   "source": []
  },
  {
   "cell_type": "code",
   "execution_count": 39,
   "metadata": {},
   "outputs": [],
   "source": [
    "eco_bi = pd.read_excel('economics_collocation_counts.xlsx', encoding='utf-8', sheet_name='bigrams')"
   ]
  },
  {
   "cell_type": "code",
   "execution_count": 40,
   "metadata": {},
   "outputs": [],
   "source": [
    "eco_bi = clean_data(eco_bi)"
   ]
  },
  {
   "cell_type": "code",
   "execution_count": 41,
   "metadata": {},
   "outputs": [],
   "source": [
    "eco_tri = pd.read_excel('economics_collocation_counts.xlsx', encoding='utf-8', sheet_name='trigrams')"
   ]
  },
  {
   "cell_type": "code",
   "execution_count": 42,
   "metadata": {},
   "outputs": [],
   "source": [
    "eco_tri = clean_data(eco_tri)"
   ]
  },
  {
   "cell_type": "code",
   "execution_count": null,
   "metadata": {},
   "outputs": [],
   "source": []
  },
  {
   "cell_type": "code",
   "execution_count": 43,
   "metadata": {},
   "outputs": [],
   "source": [
    "h_bi = pd.read_excel('history_collocation_counts.xlsx', encoding='utf-8', sheet_name='bigrams')"
   ]
  },
  {
   "cell_type": "code",
   "execution_count": 44,
   "metadata": {},
   "outputs": [],
   "source": [
    "h_bi = clean_data(h_bi)"
   ]
  },
  {
   "cell_type": "code",
   "execution_count": 45,
   "metadata": {},
   "outputs": [],
   "source": [
    "h_tri = pd.read_excel('history_collocation_counts.xlsx', encoding='utf-8', sheet_name='trigrams')"
   ]
  },
  {
   "cell_type": "code",
   "execution_count": 46,
   "metadata": {},
   "outputs": [],
   "source": [
    "h_tri = clean_data(h_tri)"
   ]
  },
  {
   "cell_type": "code",
   "execution_count": null,
   "metadata": {},
   "outputs": [],
   "source": []
  },
  {
   "cell_type": "code",
   "execution_count": 47,
   "metadata": {},
   "outputs": [],
   "source": [
    "l_bi = pd.read_excel('law_collocation_counts.xlsx', encoding='utf-8', sheet_name='bigrams')"
   ]
  },
  {
   "cell_type": "code",
   "execution_count": 48,
   "metadata": {},
   "outputs": [],
   "source": [
    "l_bi = clean_data(l_bi)"
   ]
  },
  {
   "cell_type": "code",
   "execution_count": 49,
   "metadata": {},
   "outputs": [],
   "source": [
    "l_tri = pd.read_excel('law_collocation_counts.xlsx', encoding='utf-8', sheet_name='trigrams')"
   ]
  },
  {
   "cell_type": "code",
   "execution_count": 50,
   "metadata": {},
   "outputs": [],
   "source": [
    "l_tri = clean_data(l_tri)"
   ]
  },
  {
   "cell_type": "code",
   "execution_count": null,
   "metadata": {},
   "outputs": [],
   "source": []
  },
  {
   "cell_type": "code",
   "execution_count": 51,
   "metadata": {},
   "outputs": [],
   "source": [
    "pol_bi = pd.read_excel('politology_collocation_counts.xlsx', encoding='utf-8', sheet_name='bigrams')"
   ]
  },
  {
   "cell_type": "code",
   "execution_count": 52,
   "metadata": {},
   "outputs": [],
   "source": [
    "pol_bi = clean_data(pol_bi)"
   ]
  },
  {
   "cell_type": "code",
   "execution_count": 53,
   "metadata": {},
   "outputs": [],
   "source": [
    "pol_tri = pd.read_excel('politology_collocation_counts.xlsx', encoding='utf-8', sheet_name='trigrams')"
   ]
  },
  {
   "cell_type": "code",
   "execution_count": 54,
   "metadata": {},
   "outputs": [],
   "source": [
    "pol_tri = clean_data(pol_tri)"
   ]
  },
  {
   "cell_type": "code",
   "execution_count": null,
   "metadata": {},
   "outputs": [],
   "source": []
  },
  {
   "cell_type": "code",
   "execution_count": 55,
   "metadata": {},
   "outputs": [],
   "source": [
    "s_bi = pd.read_excel('sociology_collocation_counts.xlsx', encoding='utf-8', sheet_name='bigrams')"
   ]
  },
  {
   "cell_type": "code",
   "execution_count": 56,
   "metadata": {},
   "outputs": [],
   "source": [
    "s_bi = clean_data(s_bi)"
   ]
  },
  {
   "cell_type": "code",
   "execution_count": 57,
   "metadata": {},
   "outputs": [],
   "source": [
    "s_tri = pd.read_excel('sociology_collocation_counts.xlsx', encoding='utf-8', sheet_name='trigrams')"
   ]
  },
  {
   "cell_type": "code",
   "execution_count": 58,
   "metadata": {},
   "outputs": [],
   "source": [
    "s_tri = clean_data(s_tri)"
   ]
  },
  {
   "cell_type": "code",
   "execution_count": null,
   "metadata": {},
   "outputs": [],
   "source": []
  },
  {
   "cell_type": "code",
   "execution_count": 59,
   "metadata": {},
   "outputs": [],
   "source": [
    "psy_bi = pd.read_excel('psychology_and_pedagogics_collocation_counts.xlsx', encoding='utf-8', sheet_name='bigrams')"
   ]
  },
  {
   "cell_type": "code",
   "execution_count": 60,
   "metadata": {},
   "outputs": [],
   "source": [
    "psy_bi = clean_data(psy_bi)"
   ]
  },
  {
   "cell_type": "code",
   "execution_count": 61,
   "metadata": {},
   "outputs": [],
   "source": [
    "psy_tri = pd.read_excel('psychology_and_pedagogics_collocation_counts.xlsx', encoding='utf-8', sheet_name='trigrams')"
   ]
  },
  {
   "cell_type": "code",
   "execution_count": 62,
   "metadata": {},
   "outputs": [],
   "source": [
    "psy_tri = clean_data(psy_tri)"
   ]
  },
  {
   "cell_type": "code",
   "execution_count": null,
   "metadata": {},
   "outputs": [],
   "source": []
  },
  {
   "cell_type": "code",
   "execution_count": 63,
   "metadata": {},
   "outputs": [],
   "source": [
    "d = {'ling2':ling_bi,\n",
    "    'ling3': ling_tri,\n",
    "    'eco2':eco_bi,\n",
    "    'eco3':eco_tri,\n",
    "    'h2':h_bi,\n",
    "    'h3': h_tri,\n",
    "    'l2': l_bi,\n",
    "    'l3': l_tri,\n",
    "    'pol2':pol_bi,\n",
    "    'pol3':pol_tri,\n",
    "    's2':s_bi,\n",
    "    's3':s_tri,\n",
    "    'psy2':psy_bi,\n",
    "    'psy3':psy_tri}"
   ]
  },
  {
   "cell_type": "code",
   "execution_count": 94,
   "metadata": {},
   "outputs": [
    {
     "name": "stdout",
     "output_type": "stream",
     "text": [
      "ling2\n",
      "16.8549414120059\n",
      "7.082589927457571\n",
      "ling3\n",
      "16.8549414120059\n",
      "10.698685731813935\n",
      "eco2\n",
      "17.222285493303\n",
      "6.374438844723234\n",
      "eco3\n",
      "17.222285493303\n",
      "9.610877233528262\n",
      "h2\n",
      "15.0492813408563\n",
      "7.034398827436415\n",
      "h3\n",
      "15.0492813408563\n",
      "10.227604971378184\n",
      "l2\n",
      "16.9759375068767\n",
      "6.619666292790307\n",
      "l3\n",
      "16.9759375068767\n",
      "9.980430206142836\n",
      "pol2\n",
      "16.8489529661117\n",
      "6.116214009818162\n",
      "pol3\n",
      "16.8489529661117\n",
      "9.464365003988684\n",
      "s2\n",
      "16.8972743076829\n",
      "6.541360832685625\n",
      "s3\n",
      "16.8972743076829\n",
      "10.282814822845573\n",
      "psy2\n",
      "17.200802840985\n",
      "6.141899764638866\n",
      "psy3\n",
      "17.200802840985\n",
      "9.78318952387571\n"
     ]
    }
   ],
   "source": [
    "for k, v in d.items():\n",
    "    print(k)\n",
    "    print(max(v.pmi))\n",
    "    print(np.mean(v.pmi))"
   ]
  },
  {
   "cell_type": "code",
   "execution_count": 67,
   "metadata": {},
   "outputs": [
    {
     "name": "stdout",
     "output_type": "stream",
     "text": [
      "ling2, 9548\n",
      "ling2 open percentage: 40.14453288646837\n",
      "ling2 rus percentage: 62.59949727691663\n",
      "ling3, 3117\n",
      "ling3 open percentage: 15.174847609881295\n",
      "ling3 rus percentage: 33.55790824510748\n",
      "eco2, 19640\n",
      "eco2 open percentage: 30.519348268839103\n",
      "eco2 rus percentage: 57.44908350305499\n",
      "eco3, 7736\n",
      "eco3 open percentage: 10.392967942088935\n",
      "eco3 rus percentage: 29.20113753877973\n",
      "h2, 1571\n",
      "h2 open percentage: 61.362189688096755\n",
      "h2 rus percentage: 83.89560789306175\n",
      "h3, 372\n",
      "h3 open percentage: 25.0\n",
      "h3 rus percentage: 47.043010752688176\n",
      "l2, 13240\n",
      "l2 open percentage: 45.97432024169184\n",
      "l2 rus percentage: 73.30815709969788\n",
      "l3, 5306\n",
      "l3 open percentage: 19.016208066339992\n",
      "l3 rus percentage: 42.76290991330569\n",
      "pol2, 10216\n",
      "pol2 open percentage: 56.37235708692248\n",
      "pol2 rus percentage: 82.98747063429914\n",
      "pol3, 2791\n",
      "pol3 open percentage: 29.810103905410248\n",
      "pol3 rus percentage: 56.968828376925835\n",
      "s2, 8192\n",
      "s2 open percentage: 57.0068359375\n",
      "s2 rus percentage: 81.689453125\n",
      "s3, 1746\n",
      "s3 open percentage: 30.584192439862544\n",
      "s3 rus percentage: 54.753722794959906\n",
      "psy2, 12663\n",
      "psy2 open percentage: 41.36460554371002\n",
      "psy2 rus percentage: 67.95388138671721\n",
      "psy3, 3274\n",
      "psy3 open percentage: 18.78436163714111\n",
      "psy3 rus percentage: 39.34025656689065\n"
     ]
    }
   ],
   "source": [
    "for k, v in d.items():\n",
    "    if k[-1] == '2':\n",
    "        print('{0}, {1}'.format(k, len(v)))\n",
    "        df_o = compare_datasets(v, open_bi_df)\n",
    "        print('{0} open percentage: {1}'.format(k, percentage(len(df_o), len(v))))\n",
    "        df_r = compare_datasets(v, rus_bi_df)\n",
    "        print('{0} rus percentage: {1}'.format(k, percentage(len(df_r), len(v))))\n",
    "        df_o.to_csv('{}_open.csv'.format(k), encoding='utf-8', index=False)\n",
    "        df_r.to_csv('{}_rus.csv'.format(k), encoding='utf-8', index=False)\n",
    "    elif k[-1] == '3':\n",
    "        print('{0}, {1}'.format(k, len(v)))\n",
    "        df_o = compare_datasets(v, open_tri_df)\n",
    "        print('{0} open percentage: {1}'.format(k, percentage(len(df_o), len(v))))\n",
    "        df_r = compare_datasets(v, rus_tri_df)\n",
    "        print('{0} rus percentage: {1}'.format(k, percentage(len(df_r), len(v))))\n",
    "        df_o.to_csv('{}_open.csv'.format(k), encoding='utf-8', index=False)\n",
    "        df_r.to_csv('{}_rus.csv'.format(k), encoding='utf-8', index=False)"
   ]
  },
  {
   "cell_type": "code",
   "execution_count": null,
   "metadata": {},
   "outputs": [],
   "source": []
  }
 ],
 "metadata": {
  "kernelspec": {
   "display_name": "Python 3",
   "language": "python",
   "name": "python3"
  },
  "language_info": {
   "codemirror_mode": {
    "name": "ipython",
    "version": 3
   },
   "file_extension": ".py",
   "mimetype": "text/x-python",
   "name": "python",
   "nbconvert_exporter": "python",
   "pygments_lexer": "ipython3",
   "version": "3.6.5"
  }
 },
 "nbformat": 4,
 "nbformat_minor": 2
}
