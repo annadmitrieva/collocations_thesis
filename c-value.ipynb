{
 "cells": [
  {
   "cell_type": "code",
   "execution_count": 1,
   "metadata": {},
   "outputs": [],
   "source": [
    "needed_collocations = ['бы то ни', \n",
    "                       'в конечном счете', \n",
    "                       'в конце концов', \n",
    "                       'в противном случае', \n",
    "                       'до сих пор', \n",
    "                       'тем или иным', \n",
    "                       'то ни было', \n",
    "                       'точно так же']"
   ]
  },
  {
   "cell_type": "code",
   "execution_count": 2,
   "metadata": {},
   "outputs": [],
   "source": [
    "import pandas as pd"
   ]
  },
  {
   "cell_type": "code",
   "execution_count": 3,
   "metadata": {},
   "outputs": [],
   "source": [
    "trigrams = pd.read_csv('trigrams.csv', encoding='utf-8')"
   ]
  },
  {
   "cell_type": "code",
   "execution_count": 6,
   "metadata": {},
   "outputs": [
    {
     "data": {
      "text/html": [
       "<div>\n",
       "<style scoped>\n",
       "    .dataframe tbody tr th:only-of-type {\n",
       "        vertical-align: middle;\n",
       "    }\n",
       "\n",
       "    .dataframe tbody tr th {\n",
       "        vertical-align: top;\n",
       "    }\n",
       "\n",
       "    .dataframe thead th {\n",
       "        text-align: right;\n",
       "    }\n",
       "</style>\n",
       "<table border=\"1\" class=\"dataframe\">\n",
       "  <thead>\n",
       "    <tr style=\"text-align: right;\">\n",
       "      <th></th>\n",
       "      <th>Unnamed: 0</th>\n",
       "      <th>frequency</th>\n",
       "      <th>likelihood ratio</th>\n",
       "      <th>ngram</th>\n",
       "      <th>pmi</th>\n",
       "      <th>raw frequency</th>\n",
       "      <th>t score</th>\n",
       "      <th>tag</th>\n",
       "    </tr>\n",
       "  </thead>\n",
       "  <tbody>\n",
       "    <tr>\n",
       "      <th>0</th>\n",
       "      <td>0</td>\n",
       "      <td>683.0</td>\n",
       "      <td>-0.000000</td>\n",
       "      <td>, , ,</td>\n",
       "      <td>1.807575</td>\n",
       "      <td>2.759585e-04</td>\n",
       "      <td>18.668476</td>\n",
       "      <td>, , ,</td>\n",
       "    </tr>\n",
       "    <tr>\n",
       "      <th>1</th>\n",
       "      <td>1</td>\n",
       "      <td>16.0</td>\n",
       "      <td>-0.000000</td>\n",
       "      <td>, , -</td>\n",
       "      <td>-0.069425</td>\n",
       "      <td>6.464620e-06</td>\n",
       "      <td>-0.197195</td>\n",
       "      <td>, , -</td>\n",
       "    </tr>\n",
       "    <tr>\n",
       "      <th>2</th>\n",
       "      <td>2</td>\n",
       "      <td>21.0</td>\n",
       "      <td>-0.000000</td>\n",
       "      <td>, , :</td>\n",
       "      <td>0.253574</td>\n",
       "      <td>8.484814e-06</td>\n",
       "      <td>0.738639</td>\n",
       "      <td>, , :</td>\n",
       "    </tr>\n",
       "    <tr>\n",
       "      <th>3</th>\n",
       "      <td>3</td>\n",
       "      <td>4.0</td>\n",
       "      <td>3.052775</td>\n",
       "      <td>, , а</td>\n",
       "      <td>-1.099412</td>\n",
       "      <td>1.616155e-06</td>\n",
       "      <td>-2.285346</td>\n",
       "      <td>, , CONJ</td>\n",
       "    </tr>\n",
       "    <tr>\n",
       "      <th>4</th>\n",
       "      <td>4</td>\n",
       "      <td>1.0</td>\n",
       "      <td>6.029314</td>\n",
       "      <td>, , апк</td>\n",
       "      <td>5.765139</td>\n",
       "      <td>4.040388e-07</td>\n",
       "      <td>0.981613</td>\n",
       "      <td>, , S</td>\n",
       "    </tr>\n",
       "  </tbody>\n",
       "</table>\n",
       "</div>"
      ],
      "text/plain": [
       "   Unnamed: 0  frequency  likelihood ratio    ngram       pmi  raw frequency  \\\n",
       "0           0      683.0         -0.000000    , , ,  1.807575   2.759585e-04   \n",
       "1           1       16.0         -0.000000    , , - -0.069425   6.464620e-06   \n",
       "2           2       21.0         -0.000000    , , :  0.253574   8.484814e-06   \n",
       "3           3        4.0          3.052775    , , а -1.099412   1.616155e-06   \n",
       "4           4        1.0          6.029314  , , апк  5.765139   4.040388e-07   \n",
       "\n",
       "     t score       tag  \n",
       "0  18.668476     , , ,  \n",
       "1  -0.197195     , , -  \n",
       "2   0.738639     , , :  \n",
       "3  -2.285346  , , CONJ  \n",
       "4   0.981613     , , S  "
      ]
     },
     "execution_count": 6,
     "metadata": {},
     "output_type": "execute_result"
    }
   ],
   "source": [
    "trigrams.head()"
   ]
  },
  {
   "cell_type": "code",
   "execution_count": 4,
   "metadata": {},
   "outputs": [],
   "source": [
    "fourgrams = pd.read_csv('quadrograms.csv', encoding='utf-8')"
   ]
  },
  {
   "cell_type": "code",
   "execution_count": 30,
   "metadata": {},
   "outputs": [],
   "source": [
    "def count_c_value(colloc, target_df=trigrams, bigger_df=fourgrams):\n",
    "    length = len(colloc.split())-1\n",
    "    t = 0\n",
    "    c = 0\n",
    "    freq = 0\n",
    "    target_ngrams = target_df.ngram.tolist()\n",
    "    target_freqs =  target_df.frequency.tolist()\n",
    "    bigger_ngrams = bigger_df.ngram.tolist()\n",
    "    bigger_freqs = bigger_df.frequency.tolist()\n",
    "    for i in range(len(target_ngrams)):\n",
    "        if target_ngrams[i] == colloc:\n",
    "            freq += target_freqs[i]\n",
    "    for i in range(len(bigger_ngrams)):\n",
    "        if colloc in bigger_ngrams[i]:\n",
    "            c += 1\n",
    "            t += bigger_freqs[i]\n",
    "    try:\n",
    "        c_value = length*(freq - (t/c))\n",
    "    except ZeroDivisionError:\n",
    "        c_value = 0.0\n",
    "    return ('%.2f'%c_value, c)\n",
    "    "
   ]
  },
  {
   "cell_type": "code",
   "execution_count": 13,
   "metadata": {},
   "outputs": [
    {
     "name": "stdout",
     "output_type": "stream",
     "text": [
      "бы то ни\n",
      "13\n",
      "50.77\n",
      "===========\n",
      "в конечном счете\n",
      "51\n",
      "84.86\n",
      "===========\n",
      "в конце концов\n",
      "30\n",
      "60.60\n",
      "===========\n",
      "в противном случае\n",
      "46\n",
      "97.39\n",
      "===========\n",
      "до сих пор\n",
      "162\n",
      "268.99\n",
      "===========\n",
      "тем или иным\n",
      "24\n",
      "45.92\n",
      "===========\n",
      "то ни было\n",
      "20\n",
      "48.80\n",
      "===========\n",
      "точно так же\n",
      "26\n",
      "48.92\n",
      "===========\n"
     ]
    }
   ],
   "source": [
    "for i in needed_collocations:\n",
    "    print(i)\n",
    "    print(count_c_value(i))\n",
    "    print('===========')"
   ]
  },
  {
   "cell_type": "code",
   "execution_count": 14,
   "metadata": {},
   "outputs": [],
   "source": [
    "perc13 = pd.read_csv('perc13ngram.csv', encoding='utf-8')"
   ]
  },
  {
   "cell_type": "code",
   "execution_count": 16,
   "metadata": {
    "scrolled": true
   },
   "outputs": [
    {
     "data": {
      "text/html": [
       "<div>\n",
       "<style scoped>\n",
       "    .dataframe tbody tr th:only-of-type {\n",
       "        vertical-align: middle;\n",
       "    }\n",
       "\n",
       "    .dataframe tbody tr th {\n",
       "        vertical-align: top;\n",
       "    }\n",
       "\n",
       "    .dataframe thead th {\n",
       "        text-align: right;\n",
       "    }\n",
       "</style>\n",
       "<table border=\"1\" class=\"dataframe\">\n",
       "  <thead>\n",
       "    <tr style=\"text-align: right;\">\n",
       "      <th></th>\n",
       "      <th>Unnamed: 0</th>\n",
       "      <th>x</th>\n",
       "    </tr>\n",
       "  </thead>\n",
       "  <tbody>\n",
       "    <tr>\n",
       "      <th>0</th>\n",
       "      <td>1</td>\n",
       "      <td>, а онъ</td>\n",
       "    </tr>\n",
       "    <tr>\n",
       "      <th>1</th>\n",
       "      <td>2</td>\n",
       "      <td>, а потомъ</td>\n",
       "    </tr>\n",
       "    <tr>\n",
       "      <th>2</th>\n",
       "      <td>3</td>\n",
       "      <td>, а черниговъ</td>\n",
       "    </tr>\n",
       "    <tr>\n",
       "      <th>3</th>\n",
       "      <td>4</td>\n",
       "      <td>, абдулло саидов</td>\n",
       "    </tr>\n",
       "    <tr>\n",
       "      <th>4</th>\n",
       "      <td>5</td>\n",
       "      <td>, абейд амани</td>\n",
       "    </tr>\n",
       "    <tr>\n",
       "      <th>5</th>\n",
       "      <td>6</td>\n",
       "      <td>, або турку</td>\n",
       "    </tr>\n",
       "    <tr>\n",
       "      <th>6</th>\n",
       "      <td>7</td>\n",
       "      <td>, абст рактная</td>\n",
       "    </tr>\n",
       "    <tr>\n",
       "      <th>7</th>\n",
       "      <td>8</td>\n",
       "      <td>, аварский народный</td>\n",
       "    </tr>\n",
       "    <tr>\n",
       "      <th>8</th>\n",
       "      <td>9</td>\n",
       "      <td>, авл геллий</td>\n",
       "    </tr>\n",
       "    <tr>\n",
       "      <th>9</th>\n",
       "      <td>10</td>\n",
       "      <td>, авс румыния</td>\n",
       "    </tr>\n",
       "    <tr>\n",
       "      <th>10</th>\n",
       "      <td>11</td>\n",
       "      <td>, австрийский педиатр</td>\n",
       "    </tr>\n",
       "    <tr>\n",
       "      <th>11</th>\n",
       "      <td>12</td>\n",
       "      <td>, австро-венгрия пыталась</td>\n",
       "    </tr>\n",
       "    <tr>\n",
       "      <th>12</th>\n",
       "      <td>13</td>\n",
       "      <td>, автоматическая активация</td>\n",
       "    </tr>\n",
       "    <tr>\n",
       "      <th>13</th>\n",
       "      <td>14</td>\n",
       "      <td>, автоматически отчисляемая</td>\n",
       "    </tr>\n",
       "    <tr>\n",
       "      <th>14</th>\n",
       "      <td>15</td>\n",
       "      <td>, автомобиль потерял</td>\n",
       "    </tr>\n",
       "    <tr>\n",
       "      <th>15</th>\n",
       "      <td>16</td>\n",
       "      <td>, автомобильным дорогам</td>\n",
       "    </tr>\n",
       "    <tr>\n",
       "      <th>16</th>\n",
       "      <td>17</td>\n",
       "      <td>, автономные респуб</td>\n",
       "    </tr>\n",
       "    <tr>\n",
       "      <th>17</th>\n",
       "      <td>18</td>\n",
       "      <td>, автопортрет михеев</td>\n",
       "    </tr>\n",
       "    <tr>\n",
       "      <th>18</th>\n",
       "      <td>19</td>\n",
       "      <td>, автора серьезнейших</td>\n",
       "    </tr>\n",
       "    <tr>\n",
       "      <th>19</th>\n",
       "      <td>20</td>\n",
       "      <td>, автороведческая экспертиза</td>\n",
       "    </tr>\n",
       "    <tr>\n",
       "      <th>20</th>\n",
       "      <td>21</td>\n",
       "      <td>, авторская ремарка</td>\n",
       "    </tr>\n",
       "    <tr>\n",
       "      <th>21</th>\n",
       "      <td>22</td>\n",
       "      <td>, авторский коллектив</td>\n",
       "    </tr>\n",
       "    <tr>\n",
       "      <th>22</th>\n",
       "      <td>23</td>\n",
       "      <td>, автосегментная фонология</td>\n",
       "    </tr>\n",
       "    <tr>\n",
       "      <th>23</th>\n",
       "      <td>24</td>\n",
       "      <td>, агент кодирует</td>\n",
       "    </tr>\n",
       "    <tr>\n",
       "      <th>24</th>\n",
       "      <td>25</td>\n",
       "      <td>, агент фогель</td>\n",
       "    </tr>\n",
       "    <tr>\n",
       "      <th>25</th>\n",
       "      <td>26</td>\n",
       "      <td>, агентивным глаголом</td>\n",
       "    </tr>\n",
       "    <tr>\n",
       "      <th>26</th>\n",
       "      <td>27</td>\n",
       "      <td>, агентов разведывательных</td>\n",
       "    </tr>\n",
       "    <tr>\n",
       "      <th>27</th>\n",
       "      <td>28</td>\n",
       "      <td>, агентство франспресс</td>\n",
       "    </tr>\n",
       "    <tr>\n",
       "      <th>28</th>\n",
       "      <td>29</td>\n",
       "      <td>, агония плановой</td>\n",
       "    </tr>\n",
       "    <tr>\n",
       "      <th>29</th>\n",
       "      <td>30</td>\n",
       "      <td>, агрегированное трудовое</td>\n",
       "    </tr>\n",
       "    <tr>\n",
       "      <th>...</th>\n",
       "      <td>...</td>\n",
       "      <td>...</td>\n",
       "    </tr>\n",
       "    <tr>\n",
       "      <th>167487</th>\n",
       "      <td>167488</td>\n",
       "      <td>ясно , пародией</td>\n",
       "    </tr>\n",
       "    <tr>\n",
       "      <th>167488</th>\n",
       "      <td>167489</td>\n",
       "      <td>ясно : арсюшка</td>\n",
       "    </tr>\n",
       "    <tr>\n",
       "      <th>167489</th>\n",
       "      <td>167490</td>\n",
       "      <td>ясно и выпукло</td>\n",
       "    </tr>\n",
       "    <tr>\n",
       "      <th>167490</th>\n",
       "      <td>167491</td>\n",
       "      <td>ясно ощущается политикоправовой</td>\n",
       "    </tr>\n",
       "    <tr>\n",
       "      <th>167491</th>\n",
       "      <td>167492</td>\n",
       "      <td>ясно показало несостоятельность</td>\n",
       "    </tr>\n",
       "    <tr>\n",
       "      <th>167492</th>\n",
       "      <td>167493</td>\n",
       "      <td>ясного и несомненного</td>\n",
       "    </tr>\n",
       "    <tr>\n",
       "      <th>167493</th>\n",
       "      <td>167494</td>\n",
       "      <td>ясного сокола видать</td>\n",
       "    </tr>\n",
       "    <tr>\n",
       "      <th>167494</th>\n",
       "      <td>167495</td>\n",
       "      <td>ясной : словарное</td>\n",
       "    </tr>\n",
       "    <tr>\n",
       "      <th>167495</th>\n",
       "      <td>167496</td>\n",
       "      <td>ясной научной картиной</td>\n",
       "    </tr>\n",
       "    <tr>\n",
       "      <th>167496</th>\n",
       "      <td>167497</td>\n",
       "      <td>ясности , следованию</td>\n",
       "    </tr>\n",
       "    <tr>\n",
       "      <th>167497</th>\n",
       "      <td>167498</td>\n",
       "      <td>ясности и недвусмысленности</td>\n",
       "    </tr>\n",
       "    <tr>\n",
       "      <th>167498</th>\n",
       "      <td>167499</td>\n",
       "      <td>ясности по опроснику</td>\n",
       "    </tr>\n",
       "    <tr>\n",
       "      <th>167499</th>\n",
       "      <td>167500</td>\n",
       "      <td>ясность в расстановку</td>\n",
       "    </tr>\n",
       "    <tr>\n",
       "      <th>167500</th>\n",
       "      <td>167501</td>\n",
       "      <td>ясность в терминологическую</td>\n",
       "    </tr>\n",
       "    <tr>\n",
       "      <th>167501</th>\n",
       "      <td>167502</td>\n",
       "      <td>ясность представленных доктрин</td>\n",
       "    </tr>\n",
       "    <tr>\n",
       "      <th>167502</th>\n",
       "      <td>167503</td>\n",
       "      <td>ясною , осознанною</td>\n",
       "    </tr>\n",
       "    <tr>\n",
       "      <th>167503</th>\n",
       "      <td>167504</td>\n",
       "      <td>ясным ли днем</td>\n",
       "    </tr>\n",
       "    <tr>\n",
       "      <th>167504</th>\n",
       "      <td>167505</td>\n",
       "      <td>ясных и четких</td>\n",
       "    </tr>\n",
       "    <tr>\n",
       "      <th>167505</th>\n",
       "      <td>167506</td>\n",
       "      <td>ясперса : ошибочно</td>\n",
       "    </tr>\n",
       "    <tr>\n",
       "      <th>167506</th>\n",
       "      <td>167507</td>\n",
       "      <td>яуза : эксмо</td>\n",
       "    </tr>\n",
       "    <tr>\n",
       "      <th>167507</th>\n",
       "      <td>167508</td>\n",
       "      <td>яхина альберта ахтямовича</td>\n",
       "    </tr>\n",
       "    <tr>\n",
       "      <th>167508</th>\n",
       "      <td>167509</td>\n",
       "      <td>ячеек стандартизованные остатки</td>\n",
       "    </tr>\n",
       "    <tr>\n",
       "      <th>167509</th>\n",
       "      <td>167510</td>\n",
       "      <td>ячейки в ленинабадской</td>\n",
       "    </tr>\n",
       "    <tr>\n",
       "      <th>167510</th>\n",
       "      <td>167511</td>\n",
       "      <td>ячейки на местном</td>\n",
       "    </tr>\n",
       "    <tr>\n",
       "      <th>167511</th>\n",
       "      <td>167512</td>\n",
       "      <td>ячейки памяти компьютера</td>\n",
       "    </tr>\n",
       "    <tr>\n",
       "      <th>167512</th>\n",
       "      <td>167513</td>\n",
       "      <td>ячейки по нарвскому</td>\n",
       "    </tr>\n",
       "    <tr>\n",
       "      <th>167513</th>\n",
       "      <td>167514</td>\n",
       "      <td>ящик с непрозрачными</td>\n",
       "    </tr>\n",
       "    <tr>\n",
       "      <th>167514</th>\n",
       "      <td>167515</td>\n",
       "      <td>ящики и аккаунты</td>\n",
       "    </tr>\n",
       "    <tr>\n",
       "      <th>167515</th>\n",
       "      <td>167516</td>\n",
       "      <td>ящики с инструментами</td>\n",
       "    </tr>\n",
       "    <tr>\n",
       "      <th>167516</th>\n",
       "      <td>167517</td>\n",
       "      <td>ящиком , подчеркивая</td>\n",
       "    </tr>\n",
       "  </tbody>\n",
       "</table>\n",
       "<p>167517 rows × 2 columns</p>\n",
       "</div>"
      ],
      "text/plain": [
       "        Unnamed: 0                                x\n",
       "0                1                          , а онъ\n",
       "1                2                       , а потомъ\n",
       "2                3                    , а черниговъ\n",
       "3                4                 , абдулло саидов\n",
       "4                5                    , абейд амани\n",
       "5                6                      , або турку\n",
       "6                7                   , абст рактная\n",
       "7                8              , аварский народный\n",
       "8                9                     , авл геллий\n",
       "9               10                    , авс румыния\n",
       "10              11            , австрийский педиатр\n",
       "11              12        , австро-венгрия пыталась\n",
       "12              13       , автоматическая активация\n",
       "13              14      , автоматически отчисляемая\n",
       "14              15             , автомобиль потерял\n",
       "15              16          , автомобильным дорогам\n",
       "16              17              , автономные респуб\n",
       "17              18             , автопортрет михеев\n",
       "18              19            , автора серьезнейших\n",
       "19              20     , автороведческая экспертиза\n",
       "20              21              , авторская ремарка\n",
       "21              22            , авторский коллектив\n",
       "22              23       , автосегментная фонология\n",
       "23              24                 , агент кодирует\n",
       "24              25                   , агент фогель\n",
       "25              26            , агентивным глаголом\n",
       "26              27       , агентов разведывательных\n",
       "27              28           , агентство франспресс\n",
       "28              29                , агония плановой\n",
       "29              30        , агрегированное трудовое\n",
       "...            ...                              ...\n",
       "167487      167488                  ясно , пародией\n",
       "167488      167489                   ясно : арсюшка\n",
       "167489      167490                   ясно и выпукло\n",
       "167490      167491  ясно ощущается политикоправовой\n",
       "167491      167492  ясно показало несостоятельность\n",
       "167492      167493            ясного и несомненного\n",
       "167493      167494             ясного сокола видать\n",
       "167494      167495                ясной : словарное\n",
       "167495      167496           ясной научной картиной\n",
       "167496      167497             ясности , следованию\n",
       "167497      167498      ясности и недвусмысленности\n",
       "167498      167499             ясности по опроснику\n",
       "167499      167500            ясность в расстановку\n",
       "167500      167501      ясность в терминологическую\n",
       "167501      167502   ясность представленных доктрин\n",
       "167502      167503               ясною , осознанною\n",
       "167503      167504                    ясным ли днем\n",
       "167504      167505                   ясных и четких\n",
       "167505      167506               ясперса : ошибочно\n",
       "167506      167507                     яуза : эксмо\n",
       "167507      167508        яхина альберта ахтямовича\n",
       "167508      167509  ячеек стандартизованные остатки\n",
       "167509      167510           ячейки в ленинабадской\n",
       "167510      167511                ячейки на местном\n",
       "167511      167512         ячейки памяти компьютера\n",
       "167512      167513              ячейки по нарвскому\n",
       "167513      167514             ящик с непрозрачными\n",
       "167514      167515                 ящики и аккаунты\n",
       "167515      167516            ящики с инструментами\n",
       "167516      167517             ящиком , подчеркивая\n",
       "\n",
       "[167517 rows x 2 columns]"
      ]
     },
     "execution_count": 16,
     "metadata": {},
     "output_type": "execute_result"
    }
   ],
   "source": [
    "perc13"
   ]
  },
  {
   "cell_type": "code",
   "execution_count": 17,
   "metadata": {},
   "outputs": [],
   "source": [
    "import random"
   ]
  },
  {
   "cell_type": "code",
   "execution_count": 18,
   "metadata": {},
   "outputs": [
    {
     "data": {
      "text/plain": [
       "27845"
      ]
     },
     "execution_count": 18,
     "metadata": {},
     "output_type": "execute_result"
    }
   ],
   "source": [
    "random.randint(0, 167517)"
   ]
  },
  {
   "cell_type": "code",
   "execution_count": 53,
   "metadata": {},
   "outputs": [
    {
     "data": {
      "text/plain": [
       "16751.7"
      ]
     },
     "execution_count": 53,
     "metadata": {},
     "output_type": "execute_result"
    }
   ],
   "source": [
    "167517/100*10"
   ]
  },
  {
   "cell_type": "code",
   "execution_count": 41,
   "metadata": {},
   "outputs": [],
   "source": [
    "ints = set()\n",
    "while len(list(ints)) < 16580:\n",
    "    ints.add(random.randint(0, 167517))"
   ]
  },
  {
   "cell_type": "code",
   "execution_count": 42,
   "metadata": {},
   "outputs": [],
   "source": [
    "thousand_collocations = []\n",
    "all_collocations = perc13.x.tolist()\n",
    "for i in range(len(all_collocations)):\n",
    "    if i in ints:\n",
    "        thousand_collocations.append(all_collocations[i])"
   ]
  },
  {
   "cell_type": "code",
   "execution_count": 43,
   "metadata": {},
   "outputs": [
    {
     "data": {
      "text/plain": [
       "16580"
      ]
     },
     "execution_count": 43,
     "metadata": {},
     "output_type": "execute_result"
    }
   ],
   "source": [
    "len(thousand_collocations)"
   ]
  },
  {
   "cell_type": "code",
   "execution_count": 44,
   "metadata": {},
   "outputs": [],
   "source": [
    "values = []\n",
    "for i in thousand_collocations:\n",
    "    values.append(count_c_value(i))"
   ]
  },
  {
   "cell_type": "code",
   "execution_count": 48,
   "metadata": {},
   "outputs": [],
   "source": [
    "c_values = [float(i[0]) for i in values]\n",
    "cs = [i[1] for i in values]"
   ]
  },
  {
   "cell_type": "code",
   "execution_count": 66,
   "metadata": {},
   "outputs": [],
   "source": [
    "norm_values = []\n",
    "norm_cs = []\n",
    "for i in values:\n",
    "    if i[1] >= 10.0:\n",
    "        norm_values.append(float(i[0]))\n",
    "        norm_cs.append(i[1])"
   ]
  },
  {
   "cell_type": "code",
   "execution_count": 49,
   "metadata": {},
   "outputs": [],
   "source": [
    "import numpy as np"
   ]
  },
  {
   "cell_type": "code",
   "execution_count": 67,
   "metadata": {},
   "outputs": [
    {
     "data": {
      "text/plain": [
       "22.868695652173916"
      ]
     },
     "execution_count": 67,
     "metadata": {},
     "output_type": "execute_result"
    }
   ],
   "source": [
    "np.mean(norm_values)"
   ]
  },
  {
   "cell_type": "code",
   "execution_count": 68,
   "metadata": {},
   "outputs": [
    {
     "data": {
      "text/plain": [
       "13.695652173913043"
      ]
     },
     "execution_count": 68,
     "metadata": {},
     "output_type": "execute_result"
    }
   ],
   "source": [
    "np.mean(norm_cs)"
   ]
  },
  {
   "cell_type": "code",
   "execution_count": 69,
   "metadata": {},
   "outputs": [
    {
     "data": {
      "text/plain": [
       "75.69"
      ]
     },
     "execution_count": 69,
     "metadata": {},
     "output_type": "execute_result"
    }
   ],
   "source": [
    "max(norm_values)"
   ]
  },
  {
   "cell_type": "code",
   "execution_count": 60,
   "metadata": {},
   "outputs": [
    {
     "data": {
      "text/plain": [
       "935"
      ]
     },
     "execution_count": 60,
     "metadata": {},
     "output_type": "execute_result"
    }
   ],
   "source": [
    "len(norm_values)"
   ]
  },
  {
   "cell_type": "code",
   "execution_count": null,
   "metadata": {},
   "outputs": [],
   "source": []
  }
 ],
 "metadata": {
  "kernelspec": {
   "display_name": "Python 3",
   "language": "python",
   "name": "python3"
  },
  "language_info": {
   "codemirror_mode": {
    "name": "ipython",
    "version": 3
   },
   "file_extension": ".py",
   "mimetype": "text/x-python",
   "name": "python",
   "nbconvert_exporter": "python",
   "pygments_lexer": "ipython3",
   "version": "3.6.5"
  }
 },
 "nbformat": 4,
 "nbformat_minor": 2
}
